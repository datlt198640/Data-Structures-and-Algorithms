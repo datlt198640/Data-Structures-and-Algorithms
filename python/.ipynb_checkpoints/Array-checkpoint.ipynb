{
 "cells": [
  {
   "cell_type": "code",
   "execution_count": 1,
   "id": "e13db874",
   "metadata": {},
   "outputs": [],
   "source": [
    "counters = [0] * 8"
   ]
  },
  {
   "cell_type": "code",
   "execution_count": 2,
   "id": "a2f3af52",
   "metadata": {},
   "outputs": [
    {
     "data": {
      "text/plain": [
       "[0, 0, 0, 0, 0, 0, 0, 0]"
      ]
     },
     "execution_count": 2,
     "metadata": {},
     "output_type": "execute_result"
    }
   ],
   "source": [
    "counters"
   ]
  },
  {
   "cell_type": "code",
   "execution_count": 9,
   "id": "6150f0fb",
   "metadata": {},
   "outputs": [],
   "source": [
    "# create a list\n",
    "prime_numbers = [2, 3, 5]\n",
    "\n",
    "# create another list\n",
    "numbers = [1, 4]"
   ]
  },
  {
   "cell_type": "code",
   "execution_count": 14,
   "id": "80975d9e",
   "metadata": {},
   "outputs": [],
   "source": [
    "strs = \"1, 2, 3\"\n",
    "prime_numbers.extend(strs)"
   ]
  },
  {
   "cell_type": "code",
   "execution_count": 15,
   "id": "7ba4eade",
   "metadata": {},
   "outputs": [
    {
     "data": {
      "text/plain": [
       "[2,\n",
       " 3,\n",
       " 5,\n",
       " '1',\n",
       " ',',\n",
       " ' ',\n",
       " '2',\n",
       " ',',\n",
       " ' ',\n",
       " '3',\n",
       " '1',\n",
       " ',',\n",
       " ' ',\n",
       " '2',\n",
       " ',',\n",
       " ' ',\n",
       " '3',\n",
       " '1',\n",
       " ',',\n",
       " ' ',\n",
       " '2',\n",
       " ',',\n",
       " ' ',\n",
       " '3',\n",
       " '1',\n",
       " ',',\n",
       " ' ',\n",
       " '2',\n",
       " ',',\n",
       " ' ',\n",
       " '3']"
      ]
     },
     "execution_count": 15,
     "metadata": {},
     "output_type": "execute_result"
    }
   ],
   "source": [
    "prime_numbers"
   ]
  },
  {
   "cell_type": "code",
   "execution_count": 17,
   "id": "ad1d9be9",
   "metadata": {
    "scrolled": true
   },
   "outputs": [
    {
     "name": "stdout",
     "output_type": "stream",
     "text": [
      "Length:   0; Size in bytes:   56 \n",
      "Length:   1; Size in bytes:   88 \n",
      "Length:   2; Size in bytes:   88 \n",
      "Length:   3; Size in bytes:   88 \n",
      "Length:   4; Size in bytes:   88 \n",
      "Length:   5; Size in bytes:  120 \n",
      "Length:   6; Size in bytes:  120 \n",
      "Length:   7; Size in bytes:  120 \n",
      "Length:   8; Size in bytes:  120 \n",
      "Length:   9; Size in bytes:  184 \n",
      "Length:  10; Size in bytes:  184 \n",
      "Length:  11; Size in bytes:  184 \n",
      "Length:  12; Size in bytes:  184 \n",
      "Length:  13; Size in bytes:  184 \n",
      "Length:  14; Size in bytes:  184 \n",
      "Length:  15; Size in bytes:  184 \n",
      "Length:  16; Size in bytes:  184 \n",
      "Length:  17; Size in bytes:  256 \n",
      "Length:  18; Size in bytes:  256 \n",
      "Length:  19; Size in bytes:  256 \n",
      "Length:  20; Size in bytes:  256 \n",
      "Length:  21; Size in bytes:  256 \n",
      "Length:  22; Size in bytes:  256 \n",
      "Length:  23; Size in bytes:  256 \n",
      "Length:  24; Size in bytes:  256 \n",
      "Length:  25; Size in bytes:  256 \n",
      "Length:  26; Size in bytes:  336 \n",
      "Length:  27; Size in bytes:  336 \n",
      "Length:  28; Size in bytes:  336 \n",
      "Length:  29; Size in bytes:  336 \n",
      "Length:  30; Size in bytes:  336 \n",
      "Length:  31; Size in bytes:  336 \n",
      "Length:  32; Size in bytes:  336 \n",
      "Length:  33; Size in bytes:  336 \n",
      "Length:  34; Size in bytes:  336 \n",
      "Length:  35; Size in bytes:  336 \n",
      "Length:  36; Size in bytes:  424 \n",
      "Length:  37; Size in bytes:  424 \n",
      "Length:  38; Size in bytes:  424 \n",
      "Length:  39; Size in bytes:  424 \n",
      "Length:  40; Size in bytes:  424 \n",
      "Length:  41; Size in bytes:  424 \n",
      "Length:  42; Size in bytes:  424 \n",
      "Length:  43; Size in bytes:  424 \n",
      "Length:  44; Size in bytes:  424 \n",
      "Length:  45; Size in bytes:  424 \n",
      "Length:  46; Size in bytes:  424 \n",
      "Length:  47; Size in bytes:  520 \n",
      "Length:  48; Size in bytes:  520 \n",
      "Length:  49; Size in bytes:  520 \n"
     ]
    }
   ],
   "source": [
    "import sys\n",
    "n = 50\n",
    "data = []\n",
    "for i in range(n):\n",
    "    a = len(data)\n",
    "    b = sys.getsizeof(data)\n",
    "    print(\"Length: {0:3d}; Size in bytes: {1:4d} \".format(a, b))\n",
    "    data.append(i)"
   ]
  },
  {
   "cell_type": "code",
   "execution_count": 18,
   "id": "6c7cc152",
   "metadata": {},
   "outputs": [],
   "source": [
    "class M(object):\n",
    "    \n",
    "    def public(self):\n",
    "        print('Use Tab to see me!')\n",
    "        \n",
    "    def _private(self):\n",
    "        print(\"You won't be able to Tab to see me!\")"
   ]
  },
  {
   "cell_type": "code",
   "execution_count": 19,
   "id": "977dad28",
   "metadata": {},
   "outputs": [],
   "source": [
    "m = M()"
   ]
  },
  {
   "cell_type": "code",
   "execution_count": 21,
   "id": "4802a410",
   "metadata": {},
   "outputs": [
    {
     "ename": "AttributeError",
     "evalue": "'M' object has no attribute 'private'",
     "output_type": "error",
     "traceback": [
      "\u001b[0;31m---------------------------------------------------------------------------\u001b[0m",
      "\u001b[0;31mAttributeError\u001b[0m                            Traceback (most recent call last)",
      "Input \u001b[0;32mIn [21]\u001b[0m, in \u001b[0;36m<cell line: 1>\u001b[0;34m()\u001b[0m\n\u001b[0;32m----> 1\u001b[0m \u001b[43mm\u001b[49m\u001b[38;5;241;43m.\u001b[39;49m\u001b[43mprivate\u001b[49m()\n",
      "\u001b[0;31mAttributeError\u001b[0m: 'M' object has no attribute 'private'"
     ]
    }
   ],
   "source": [
    "m.private()"
   ]
  },
  {
   "cell_type": "code",
   "execution_count": null,
   "id": "9be9d649",
   "metadata": {},
   "outputs": [],
   "source": []
  },
  {
   "cell_type": "code",
   "execution_count": null,
   "id": "d1ca9a38",
   "metadata": {},
   "outputs": [],
   "source": []
  },
  {
   "cell_type": "code",
   "execution_count": null,
   "id": "f00d3554",
   "metadata": {},
   "outputs": [],
   "source": []
  },
  {
   "cell_type": "markdown",
   "id": "64736ad6",
   "metadata": {},
   "source": [
    "# DYNAMIC ARRAY"
   ]
  },
  {
   "cell_type": "code",
   "execution_count": 22,
   "id": "e24ff95c",
   "metadata": {},
   "outputs": [],
   "source": [
    "import ctypes"
   ]
  },
  {
   "cell_type": "code",
   "execution_count": 58,
   "id": "d5db31e8",
   "metadata": {},
   "outputs": [],
   "source": [
    "class DynamicArray(object):\n",
    "    \n",
    "    def __init__(self):\n",
    "        self.n = 0\n",
    "        self.capacity = 1\n",
    "        self.A = self.make_array(self.capacity)\n",
    "        \n",
    "    def __len__(self):\n",
    "        return self.n\n",
    "    \n",
    "    def __getitem__(self, k):\n",
    "        if not 0 <= k < self.n:\n",
    "            return IndexError(\"K is out of bounds !\")\n",
    "        \n",
    "        return self.A[k]\n",
    "    \n",
    "    def append(self, item):\n",
    "        if self.n == self.capacity:\n",
    "            self._resize(2 * self.capacity)\n",
    "        self.A[self.n] = item\n",
    "        self.n += 1\n",
    "    \n",
    "    def _resize(self, cap):\n",
    "        new_arr = self.make_array(cap)\n",
    "        for i in range(self.n):\n",
    "            new_arr[i] = self.A[i]\n",
    "        self.A = new_arr\n",
    "        self.capacity = capacity\n",
    "    \n",
    "    def make_array(self, cap):\n",
    "        return (cap * ctypes.py_object)()\n",
    "            \n",
    "    "
   ]
  },
  {
   "cell_type": "code",
   "execution_count": null,
   "id": "57f783b8",
   "metadata": {},
   "outputs": [],
   "source": []
  },
  {
   "cell_type": "code",
   "execution_count": 59,
   "id": "3da754ac",
   "metadata": {},
   "outputs": [],
   "source": [
    "arr = DynamicArray()"
   ]
  },
  {
   "cell_type": "code",
   "execution_count": 60,
   "id": "c4c6406f",
   "metadata": {},
   "outputs": [
    {
     "data": {
      "text/plain": [
       "0"
      ]
     },
     "execution_count": 60,
     "metadata": {},
     "output_type": "execute_result"
    }
   ],
   "source": [
    "len(arr)"
   ]
  },
  {
   "cell_type": "code",
   "execution_count": 61,
   "id": "be4b0da3",
   "metadata": {},
   "outputs": [
    {
     "data": {
      "text/plain": [
       "1"
      ]
     },
     "execution_count": 61,
     "metadata": {},
     "output_type": "execute_result"
    }
   ],
   "source": [
    "arr.capacity"
   ]
  },
  {
   "cell_type": "code",
   "execution_count": 62,
   "id": "452b1dd7",
   "metadata": {},
   "outputs": [],
   "source": [
    "arr.append(1)"
   ]
  },
  {
   "cell_type": "code",
   "execution_count": 63,
   "id": "a617c606",
   "metadata": {},
   "outputs": [
    {
     "data": {
      "text/plain": [
       "1"
      ]
     },
     "execution_count": 63,
     "metadata": {},
     "output_type": "execute_result"
    }
   ],
   "source": [
    "len(arr)"
   ]
  },
  {
   "cell_type": "code",
   "execution_count": 64,
   "id": "362c4ff2",
   "metadata": {},
   "outputs": [
    {
     "data": {
      "text/plain": [
       "1"
      ]
     },
     "execution_count": 64,
     "metadata": {},
     "output_type": "execute_result"
    }
   ],
   "source": [
    "arr.capacity"
   ]
  },
  {
   "cell_type": "code",
   "execution_count": 66,
   "id": "e36f6299",
   "metadata": {},
   "outputs": [
    {
     "ename": "NameError",
     "evalue": "name 'B' is not defined",
     "output_type": "error",
     "traceback": [
      "\u001b[0;31m---------------------------------------------------------------------------\u001b[0m",
      "\u001b[0;31mNameError\u001b[0m                                 Traceback (most recent call last)",
      "Input \u001b[0;32mIn [66]\u001b[0m, in \u001b[0;36m<cell line: 1>\u001b[0;34m()\u001b[0m\n\u001b[0;32m----> 1\u001b[0m \u001b[43marr\u001b[49m\u001b[38;5;241;43m.\u001b[39;49m\u001b[43mappend\u001b[49m\u001b[43m(\u001b[49m\u001b[38;5;241;43m1\u001b[39;49m\u001b[43m)\u001b[49m\n",
      "Input \u001b[0;32mIn [58]\u001b[0m, in \u001b[0;36mDynamicArray.append\u001b[0;34m(self, item)\u001b[0m\n\u001b[1;32m     17\u001b[0m \u001b[38;5;28;01mdef\u001b[39;00m \u001b[38;5;21mappend\u001b[39m(\u001b[38;5;28mself\u001b[39m, item):\n\u001b[1;32m     18\u001b[0m     \u001b[38;5;28;01mif\u001b[39;00m \u001b[38;5;28mself\u001b[39m\u001b[38;5;241m.\u001b[39mn \u001b[38;5;241m==\u001b[39m \u001b[38;5;28mself\u001b[39m\u001b[38;5;241m.\u001b[39mcapacity:\n\u001b[0;32m---> 19\u001b[0m         \u001b[38;5;28;43mself\u001b[39;49m\u001b[38;5;241;43m.\u001b[39;49m\u001b[43m_resize\u001b[49m\u001b[43m(\u001b[49m\u001b[38;5;241;43m2\u001b[39;49m\u001b[43m \u001b[49m\u001b[38;5;241;43m*\u001b[39;49m\u001b[43m \u001b[49m\u001b[38;5;28;43mself\u001b[39;49m\u001b[38;5;241;43m.\u001b[39;49m\u001b[43mcapacity\u001b[49m\u001b[43m)\u001b[49m\n\u001b[1;32m     20\u001b[0m     \u001b[38;5;28mself\u001b[39m\u001b[38;5;241m.\u001b[39mA[\u001b[38;5;28mself\u001b[39m\u001b[38;5;241m.\u001b[39mn] \u001b[38;5;241m=\u001b[39m item\n\u001b[1;32m     21\u001b[0m     \u001b[38;5;28mself\u001b[39m\u001b[38;5;241m.\u001b[39mn \u001b[38;5;241m+\u001b[39m\u001b[38;5;241m=\u001b[39m \u001b[38;5;241m1\u001b[39m\n",
      "Input \u001b[0;32mIn [58]\u001b[0m, in \u001b[0;36mDynamicArray._resize\u001b[0;34m(self, cap)\u001b[0m\n\u001b[1;32m     24\u001b[0m new_arr \u001b[38;5;241m=\u001b[39m \u001b[38;5;28mself\u001b[39m\u001b[38;5;241m.\u001b[39mmake_array(cap)\n\u001b[1;32m     25\u001b[0m \u001b[38;5;28;01mfor\u001b[39;00m i \u001b[38;5;129;01min\u001b[39;00m \u001b[38;5;28mrange\u001b[39m(\u001b[38;5;28mself\u001b[39m\u001b[38;5;241m.\u001b[39mn):\n\u001b[0;32m---> 26\u001b[0m     \u001b[43mB\u001b[49m[i] \u001b[38;5;241m=\u001b[39m \u001b[38;5;28mself\u001b[39m\u001b[38;5;241m.\u001b[39mA[i]\n\u001b[1;32m     27\u001b[0m \u001b[38;5;28mself\u001b[39m\u001b[38;5;241m.\u001b[39mA \u001b[38;5;241m=\u001b[39m B\n\u001b[1;32m     28\u001b[0m \u001b[38;5;28mself\u001b[39m\u001b[38;5;241m.\u001b[39mcap \u001b[38;5;241m=\u001b[39m cap\n",
      "\u001b[0;31mNameError\u001b[0m: name 'B' is not defined"
     ]
    }
   ],
   "source": [
    "arr.append(1)"
   ]
  },
  {
   "cell_type": "code",
   "execution_count": null,
   "id": "73864423",
   "metadata": {},
   "outputs": [],
   "source": []
  }
 ],
 "metadata": {
  "kernelspec": {
   "display_name": "Python 3 (ipykernel)",
   "language": "python",
   "name": "python3"
  },
  "language_info": {
   "codemirror_mode": {
    "name": "ipython",
    "version": 3
   },
   "file_extension": ".py",
   "mimetype": "text/x-python",
   "name": "python",
   "nbconvert_exporter": "python",
   "pygments_lexer": "ipython3",
   "version": "3.8.10"
  }
 },
 "nbformat": 4,
 "nbformat_minor": 5
}
