{
 "cells": [
  {
   "cell_type": "code",
   "execution_count": 1,
   "id": "ada07669",
   "metadata": {},
   "outputs": [],
   "source": [
    "counters = [0] * 8"
   ]
  },
  {
   "cell_type": "code",
   "execution_count": 2,
   "id": "5299ed48",
   "metadata": {},
   "outputs": [
    {
     "data": {
      "text/plain": [
       "[0, 0, 0, 0, 0, 0, 0, 0]"
      ]
     },
     "execution_count": 2,
     "metadata": {},
     "output_type": "execute_result"
    }
   ],
   "source": [
    "counters"
   ]
  },
  {
   "cell_type": "code",
   "execution_count": 9,
   "id": "de3fe02e",
   "metadata": {},
   "outputs": [],
   "source": [
    "# create a list\n",
    "prime_numbers = [2, 3, 5]\n",
    "\n",
    "# create another list\n",
    "numbers = [1, 4]"
   ]
  },
  {
   "cell_type": "code",
   "execution_count": 14,
   "id": "e0e2e3b9",
   "metadata": {},
   "outputs": [],
   "source": [
    "strs = \"1, 2, 3\"\n",
    "prime_numbers.extend(strs)"
   ]
  },
  {
   "cell_type": "code",
   "execution_count": 15,
   "id": "87dbb2bd",
   "metadata": {},
   "outputs": [
    {
     "data": {
      "text/plain": [
       "[2,\n",
       " 3,\n",
       " 5,\n",
       " '1',\n",
       " ',',\n",
       " ' ',\n",
       " '2',\n",
       " ',',\n",
       " ' ',\n",
       " '3',\n",
       " '1',\n",
       " ',',\n",
       " ' ',\n",
       " '2',\n",
       " ',',\n",
       " ' ',\n",
       " '3',\n",
       " '1',\n",
       " ',',\n",
       " ' ',\n",
       " '2',\n",
       " ',',\n",
       " ' ',\n",
       " '3',\n",
       " '1',\n",
       " ',',\n",
       " ' ',\n",
       " '2',\n",
       " ',',\n",
       " ' ',\n",
       " '3']"
      ]
     },
     "execution_count": 15,
     "metadata": {},
     "output_type": "execute_result"
    }
   ],
   "source": [
    "prime_numbers"
   ]
  },
  {
   "cell_type": "code",
   "execution_count": 17,
   "id": "1c963b6c",
   "metadata": {
    "scrolled": true
   },
   "outputs": [
    {
     "name": "stdout",
     "output_type": "stream",
     "text": [
      "Length:   0; Size in bytes:   56 \n",
      "Length:   1; Size in bytes:   88 \n",
      "Length:   2; Size in bytes:   88 \n",
      "Length:   3; Size in bytes:   88 \n",
      "Length:   4; Size in bytes:   88 \n",
      "Length:   5; Size in bytes:  120 \n",
      "Length:   6; Size in bytes:  120 \n",
      "Length:   7; Size in bytes:  120 \n",
      "Length:   8; Size in bytes:  120 \n",
      "Length:   9; Size in bytes:  184 \n",
      "Length:  10; Size in bytes:  184 \n",
      "Length:  11; Size in bytes:  184 \n",
      "Length:  12; Size in bytes:  184 \n",
      "Length:  13; Size in bytes:  184 \n",
      "Length:  14; Size in bytes:  184 \n",
      "Length:  15; Size in bytes:  184 \n",
      "Length:  16; Size in bytes:  184 \n",
      "Length:  17; Size in bytes:  256 \n",
      "Length:  18; Size in bytes:  256 \n",
      "Length:  19; Size in bytes:  256 \n",
      "Length:  20; Size in bytes:  256 \n",
      "Length:  21; Size in bytes:  256 \n",
      "Length:  22; Size in bytes:  256 \n",
      "Length:  23; Size in bytes:  256 \n",
      "Length:  24; Size in bytes:  256 \n",
      "Length:  25; Size in bytes:  256 \n",
      "Length:  26; Size in bytes:  336 \n",
      "Length:  27; Size in bytes:  336 \n",
      "Length:  28; Size in bytes:  336 \n",
      "Length:  29; Size in bytes:  336 \n",
      "Length:  30; Size in bytes:  336 \n",
      "Length:  31; Size in bytes:  336 \n",
      "Length:  32; Size in bytes:  336 \n",
      "Length:  33; Size in bytes:  336 \n",
      "Length:  34; Size in bytes:  336 \n",
      "Length:  35; Size in bytes:  336 \n",
      "Length:  36; Size in bytes:  424 \n",
      "Length:  37; Size in bytes:  424 \n",
      "Length:  38; Size in bytes:  424 \n",
      "Length:  39; Size in bytes:  424 \n",
      "Length:  40; Size in bytes:  424 \n",
      "Length:  41; Size in bytes:  424 \n",
      "Length:  42; Size in bytes:  424 \n",
      "Length:  43; Size in bytes:  424 \n",
      "Length:  44; Size in bytes:  424 \n",
      "Length:  45; Size in bytes:  424 \n",
      "Length:  46; Size in bytes:  424 \n",
      "Length:  47; Size in bytes:  520 \n",
      "Length:  48; Size in bytes:  520 \n",
      "Length:  49; Size in bytes:  520 \n"
     ]
    }
   ],
   "source": [
    "import sys\n",
    "n = 50\n",
    "data = []\n",
    "for i in range(n):\n",
    "    a = len(data)\n",
    "    b = sys.getsizeof(data)\n",
    "    print(\"Length: {0:3d}; Size in bytes: {1:4d} \".format(a, b))\n",
    "    data.append(i)"
   ]
  },
  {
   "cell_type": "code",
   "execution_count": 18,
   "id": "d7cc17b2",
   "metadata": {},
   "outputs": [],
   "source": [
    "class M(object):\n",
    "    \n",
    "    def public(self):\n",
    "        print('Use Tab to see me!')\n",
    "        \n",
    "    def _private(self):\n",
    "        print(\"You won't be able to Tab to see me!\")"
   ]
  },
  {
   "cell_type": "code",
   "execution_count": 19,
   "id": "92e455c6",
   "metadata": {},
   "outputs": [],
   "source": [
    "m = M()"
   ]
  },
  {
   "cell_type": "code",
   "execution_count": 21,
   "id": "cfaac6a3",
   "metadata": {},
   "outputs": [
    {
     "ename": "AttributeError",
     "evalue": "'M' object has no attribute 'private'",
     "output_type": "error",
     "traceback": [
      "\u001b[0;31m---------------------------------------------------------------------------\u001b[0m",
      "\u001b[0;31mAttributeError\u001b[0m                            Traceback (most recent call last)",
      "Input \u001b[0;32mIn [21]\u001b[0m, in \u001b[0;36m<cell line: 1>\u001b[0;34m()\u001b[0m\n\u001b[0;32m----> 1\u001b[0m \u001b[43mm\u001b[49m\u001b[38;5;241;43m.\u001b[39;49m\u001b[43mprivate\u001b[49m()\n",
      "\u001b[0;31mAttributeError\u001b[0m: 'M' object has no attribute 'private'"
     ]
    }
   ],
   "source": [
    "m.private()"
   ]
  },
  {
   "cell_type": "code",
   "execution_count": null,
   "id": "087e8fcc",
   "metadata": {},
   "outputs": [],
   "source": []
  },
  {
   "cell_type": "code",
   "execution_count": null,
   "id": "a174c255",
   "metadata": {},
   "outputs": [],
   "source": []
  },
  {
   "cell_type": "code",
   "execution_count": null,
   "id": "30ad3ab2",
   "metadata": {},
   "outputs": [],
   "source": []
  },
  {
   "cell_type": "markdown",
   "id": "b26d3dc0",
   "metadata": {},
   "source": [
    "# DYNAMIC ARRAY"
   ]
  },
  {
   "cell_type": "code",
   "execution_count": 22,
   "id": "0db466a9",
   "metadata": {},
   "outputs": [],
   "source": [
    "import ctypes"
   ]
  },
  {
   "cell_type": "code",
   "execution_count": 75,
   "id": "fb94a4b4",
   "metadata": {},
   "outputs": [],
   "source": [
    "class DynamicArray(object):\n",
    "    \n",
    "    def __init__(self):\n",
    "        self.n = 0\n",
    "        self.capacity = 1\n",
    "        self.A = self.make_array(self.capacity)\n",
    "        \n",
    "    def __len__(self):\n",
    "        return self.n\n",
    "    \n",
    "    def __getitem__(self, k):\n",
    "        if not 0 <= k < self.n:\n",
    "            return IndexError(\"K is out of bounds !\")\n",
    "        \n",
    "        return self.A[k]\n",
    "    \n",
    "    def append(self, item):\n",
    "        if self.n == self.capacity:\n",
    "            self._resize(2 * self.capacity)\n",
    "        self.A[self.n] = item\n",
    "        self.n += 1\n",
    "    \n",
    "    def _resize(self, cap):\n",
    "        new_arr = self.make_array(cap)\n",
    "        for i in range(self.n):\n",
    "            new_arr[i] = self.A[i]\n",
    "        self.A = new_arr\n",
    "        self.capacity = cap\n",
    "    \n",
    "    def make_array(self, cap):\n",
    "        return (cap * ctypes.py_object)()\n",
    "            \n",
    "    "
   ]
  },
  {
   "cell_type": "code",
   "execution_count": null,
   "id": "77d39b1c",
   "metadata": {},
   "outputs": [],
   "source": []
  },
  {
   "cell_type": "code",
   "execution_count": 76,
   "id": "839b7ddb",
   "metadata": {},
   "outputs": [],
   "source": [
    "arr = DynamicArray()"
   ]
  },
  {
   "cell_type": "code",
   "execution_count": 77,
   "id": "6a94fc02",
   "metadata": {},
   "outputs": [
    {
     "data": {
      "text/plain": [
       "0"
      ]
     },
     "execution_count": 77,
     "metadata": {},
     "output_type": "execute_result"
    }
   ],
   "source": [
    "len(arr)"
   ]
  },
  {
   "cell_type": "code",
   "execution_count": 78,
   "id": "ba327316",
   "metadata": {},
   "outputs": [
    {
     "data": {
      "text/plain": [
       "1"
      ]
     },
     "execution_count": 78,
     "metadata": {},
     "output_type": "execute_result"
    }
   ],
   "source": [
    "arr.capacity"
   ]
  },
  {
   "cell_type": "code",
   "execution_count": 79,
   "id": "902b0aa9",
   "metadata": {},
   "outputs": [],
   "source": [
    "arr.append(1)"
   ]
  },
  {
   "cell_type": "code",
   "execution_count": 80,
   "id": "9ccddbc2",
   "metadata": {},
   "outputs": [
    {
     "data": {
      "text/plain": [
       "1"
      ]
     },
     "execution_count": 80,
     "metadata": {},
     "output_type": "execute_result"
    }
   ],
   "source": [
    "len(arr)"
   ]
  },
  {
   "cell_type": "code",
   "execution_count": 81,
   "id": "81e885a6",
   "metadata": {},
   "outputs": [
    {
     "data": {
      "text/plain": [
       "1"
      ]
     },
     "execution_count": 81,
     "metadata": {},
     "output_type": "execute_result"
    }
   ],
   "source": [
    "arr.capacity"
   ]
  },
  {
   "cell_type": "code",
   "execution_count": 82,
   "id": "d0dae558",
   "metadata": {},
   "outputs": [],
   "source": [
    "arr.append(1)"
   ]
  },
  {
   "cell_type": "code",
   "execution_count": 83,
   "id": "8b444793",
   "metadata": {},
   "outputs": [
    {
     "data": {
      "text/plain": [
       "2"
      ]
     },
     "execution_count": 83,
     "metadata": {},
     "output_type": "execute_result"
    }
   ],
   "source": [
    "len(arr)"
   ]
  },
  {
   "cell_type": "code",
   "execution_count": 84,
   "id": "a64f1d0b",
   "metadata": {},
   "outputs": [
    {
     "data": {
      "text/plain": [
       "2"
      ]
     },
     "execution_count": 84,
     "metadata": {},
     "output_type": "execute_result"
    }
   ],
   "source": [
    "arr.capacity"
   ]
  },
  {
   "cell_type": "code",
   "execution_count": 85,
   "id": "30c66cc3",
   "metadata": {},
   "outputs": [],
   "source": [
    "arr.append(3)"
   ]
  },
  {
   "cell_type": "code",
   "execution_count": 86,
   "id": "2890970a",
   "metadata": {},
   "outputs": [
    {
     "data": {
      "text/plain": [
       "4"
      ]
     },
     "execution_count": 86,
     "metadata": {},
     "output_type": "execute_result"
    }
   ],
   "source": [
    "arr.capacity"
   ]
  },
  {
   "cell_type": "code",
   "execution_count": 87,
   "id": "9462992c",
   "metadata": {},
   "outputs": [
    {
     "data": {
      "text/plain": [
       "3"
      ]
     },
     "execution_count": 87,
     "metadata": {},
     "output_type": "execute_result"
    }
   ],
   "source": [
    "len(arr)"
   ]
  },
  {
   "cell_type": "code",
   "execution_count": null,
   "id": "891b59ca",
   "metadata": {},
   "outputs": [],
   "source": []
  }
 ],
 "metadata": {
  "kernelspec": {
   "display_name": "Python 3 (ipykernel)",
   "language": "python",
   "name": "python3"
  },
  "language_info": {
   "codemirror_mode": {
    "name": "ipython",
    "version": 3
   },
   "file_extension": ".py",
   "mimetype": "text/x-python",
   "name": "python",
   "nbconvert_exporter": "python",
   "pygments_lexer": "ipython3",
   "version": "3.8.10"
  }
 },
 "nbformat": 4,
 "nbformat_minor": 5
}
